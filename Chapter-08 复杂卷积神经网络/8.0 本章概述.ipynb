{
 "cells": [
  {
   "cell_type": "markdown",
   "id": "0ad52adc",
   "metadata": {},
   "source": [
    "经过上一章的学习，同学们应该对卷积神经网络中的一些常用操作比较熟悉了，同时我们带大家实现了一个在卷积神经网络发展史上有重要地位的LeNet-5，并使用MNIST数据集完整的走了一遍卷积网络的训练流程。\n",
    "\n",
    "这一章起名叫复杂卷积神经网络，其实只是看似复杂，都是卷积神经网络中常用元素的组合。2012 年，Alex Krizhevsky等人的AlexNet模型在ILSVRC(ImageNet Large Scale Visual Recognition Challenge)中取得了骄人的成绩，这一成果使得CNN成为了当时最先进的图像识别模型。2014年，VGGNet凭借着更深更宽的网络结构取得ILSVRC竞赛定位任务第一名。同年，GoogLeNet采用了能更高效利用计算资源的Inception模块，在ILSVRC的分类任务上击败VGGNet夺得冠军。2015年，Kaiming He等人提出的ResNet引入残差模块来解决深度神经网络训练时的网络退化问题，横扫当年的ILSVRC和COCO挑战赛。2017年，DenseNet模型发布，采用了密集连接结构，使得模型更加紧凑并且有更好的鲁棒性，斩获CVPR 2017的最佳论文奖。它们都是卷积神经网络发展史上的重要里程碑。\n",
    "\n",
    "下面我们将带大家手把手的实现这几个经典论文中的网络，同学们坐稳扶好这就开始。"
   ]
  }
 ],
 "metadata": {
  "kernelspec": {
   "display_name": "Python 3 (ipykernel)",
   "language": "python",
   "name": "python3"
  },
  "language_info": {
   "codemirror_mode": {
    "name": "ipython",
    "version": 3
   },
   "file_extension": ".py",
   "mimetype": "text/x-python",
   "name": "python",
   "nbconvert_exporter": "python",
   "pygments_lexer": "ipython3",
   "version": "3.8.10"
  }
 },
 "nbformat": 4,
 "nbformat_minor": 5
}
