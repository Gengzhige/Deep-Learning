{
 "cells": [
  {
   "cell_type": "markdown",
   "id": "5e1db787",
   "metadata": {},
   "source": [
    "经过前两章的学习，大家对卷积神经网络已经非常熟悉了。卷积网络就像一个拿着放大镜的侦探，能够自动对图像做出细致的特征提取。对于图像数据来说，比如图像分类，上一张图片是猫还是狗，对下一张图片的判断是没有影响的。然而生活中却有很多情况下，前一时刻的数据会影响下一时刻。比如今天的股价会受到昨天，或者前几天股价的影响；今天的气温会受到昨天或近几天气温的影响。对于这种序列数据，虽然也能依靠卷积网络去计算，比如1维卷积，但并非最佳策略。对于序列数据问题，通常使用的方法是循环神经网络。"
   ]
  },
  {
   "cell_type": "markdown",
   "id": "2685f666",
   "metadata": {},
   "source": [
    "循环神经网络（Recurrent Neural Networks, RNN） 是一种常用的神经网络结构，它源自于1982年由Saratha Sathasivam提出的霍普菲尔德网络。1986年，Elman等人正式提出了用于处理序列数据的循环神经网络。如同卷积神经网络是专门用于处理二维数据信息（如图像）的神经网络，循环神经网络是专用于处理序列信息的神经网络。它是根据\"人的认知是基于过往的经验和记忆\"这一观点提出的。 与DNN,CNN不同的是：它不仅考虑前一时刻的输入,而且赋予了网络对前面的内容的一种“记忆”功能。"
   ]
  },
  {
   "cell_type": "markdown",
   "id": "0ca70b1e",
   "metadata": {},
   "source": [
    "到底是一种什么样的神奇结构让神经网络拥有了记忆能力呢？这几张让我们一起揭开循环神经网络的神秘面纱。"
   ]
  }
 ],
 "metadata": {
  "kernelspec": {
   "display_name": "Python 3 (ipykernel)",
   "language": "python",
   "name": "python3"
  },
  "language_info": {
   "codemirror_mode": {
    "name": "ipython",
    "version": 3
   },
   "file_extension": ".py",
   "mimetype": "text/x-python",
   "name": "python",
   "nbconvert_exporter": "python",
   "pygments_lexer": "ipython3",
   "version": "3.8.10"
  }
 },
 "nbformat": 4,
 "nbformat_minor": 5
}
