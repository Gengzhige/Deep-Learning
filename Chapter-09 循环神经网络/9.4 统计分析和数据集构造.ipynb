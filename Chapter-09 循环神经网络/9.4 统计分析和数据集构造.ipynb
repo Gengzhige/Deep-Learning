{
 "cells": [
  {
   "cell_type": "markdown",
   "id": "722331c8",
   "metadata": {},
   "source": [
    "## 9.4.1 统计分析"
   ]
  },
  {
   "cell_type": "markdown",
   "id": "9defdd8c",
   "metadata": {},
   "source": [
    "我们这一节要讲的统计分析主要是针对文本的。在9.2节中，我们针对《越女剑》数据集，构建除出了词表。利用词表我们可以挖掘出很多信息。比如，我们可以打印出词频排名最为考前的一些词。我们先把读取数据集并构建词表的代码执行一下。"
   ]
  },
  {
   "cell_type": "code",
   "execution_count": 1,
   "id": "6ce03138",
   "metadata": {},
   "outputs": [],
   "source": [
    "import random\n",
    "import torch\n",
    "import string\n",
    "from zhon.hanzi import punctuation\n",
    "\n",
    "with open('data/越女剑.txt', 'r') as f:\n",
    "    lines = f.readlines()\n",
    "exclude = set(punctuation)\n",
    "lines = [ ''.join(ch for ch in line if ch not in exclude).replace('\\n','') for line in lines]\n",
    "tokens = [list(line) for line in lines ]\n",
    "\n",
    "import collections\n",
    "\n",
    "class Vocab:\n",
    "    def __init__(self, tokens=None, min_freq=0, reserved_tokens=None):\n",
    "        if tokens is None:\n",
    "            tokens = []\n",
    "        if reserved_tokens is None:\n",
    "            reserved_tokens = []\n",
    "        # 按出现频率排序\n",
    "        counter = count_corpus(tokens)\n",
    "        self._token_freqs = sorted(counter.items(), key=lambda x: x[1],\n",
    "                                   reverse=True)\n",
    "        # 未知词元的索引为0\n",
    "        self.idx_to_token = ['<unk>'] + reserved_tokens\n",
    "        self.token_to_idx = {token: idx\n",
    "                             for idx, token in enumerate(self.idx_to_token)}\n",
    "        for token, freq in self._token_freqs:\n",
    "            if freq < min_freq:\n",
    "                break\n",
    "            if token not in self.token_to_idx:\n",
    "                self.idx_to_token.append(token)\n",
    "                self.token_to_idx[token] = len(self.idx_to_token) - 1\n",
    "\n",
    "    def __len__(self):\n",
    "        return len(self.idx_to_token)\n",
    "\n",
    "    def __getitem__(self, tokens):\n",
    "        if not isinstance(tokens, (list, tuple)):\n",
    "            return self.token_to_idx.get(tokens, self.unk)\n",
    "        return [self.__getitem__(token) for token in tokens]\n",
    "\n",
    "    def to_tokens(self, indices):\n",
    "        if not isinstance(indices, (list, tuple)):\n",
    "            return self.idx_to_token[indices]\n",
    "        return [self.idx_to_token[index] for index in indices]\n",
    "\n",
    "    @property\n",
    "    def unk(self):  # 未知词元的索引为0\n",
    "        return 0\n",
    "\n",
    "    @property\n",
    "    def token_freqs(self):\n",
    "        return self._token_freqs\n",
    "\n",
    "def count_corpus(tokens):\n",
    "    # 这里的tokens是1D列表或2D列表\n",
    "    if len(tokens) == 0 or isinstance(tokens[0], list):\n",
    "        # 将词元列表展平成一个列表\n",
    "        tokens = [token for line in tokens for token in line]\n",
    "    return collections.Counter(tokens)\n",
    "\n",
    "vocab = Vocab(tokens)"
   ]
  },
  {
   "cell_type": "markdown",
   "id": "8711c0c8",
   "metadata": {},
   "source": [
    "然后我们利用词表来打印出排名前10的词。"
   ]
  },
  {
   "cell_type": "code",
   "execution_count": 2,
   "id": "0a818e72",
   "metadata": {},
   "outputs": [
    {
     "data": {
      "text/plain": [
       "[('剑', 395),\n",
       " ('的', 289),\n",
       " ('一', 260),\n",
       " ('不', 205),\n",
       " ('道', 202),\n",
       " ('士', 195),\n",
       " ('是', 192),\n",
       " ('了', 174),\n",
       " ('人', 155),\n",
       " ('范', 138)]"
      ]
     },
     "execution_count": 2,
     "metadata": {},
     "output_type": "execute_result"
    }
   ],
   "source": [
    "corpus = [token for line in tokens for token in line]\n",
    "vocab = Vocab(corpus)\n",
    "vocab.token_freqs[:10]"
   ]
  },
  {
   "cell_type": "markdown",
   "id": "b92d1637",
   "metadata": {},
   "source": [
    "可以看到，排名前10的词中，有一些没什么意义的词，比如“的”、“了”等等，这些就是我们前面讲过的停用词了。接下来我们可以绘制出词频图，来更清楚地看到词频分布。"
   ]
  },
  {
   "cell_type": "code",
   "execution_count": 12,
   "id": "984f9ae6",
   "metadata": {},
   "outputs": [
    {
     "data": {
      "text/plain": [
       "[<matplotlib.lines.Line2D at 0x7fedeae30400>]"
      ]
     },
     "execution_count": 12,
     "metadata": {},
     "output_type": "execute_result"
    },
    {
     "data": {
      "image/png": "[encoded data removed]",
      "text/plain": [
       "<Figure size 432x288 with 1 Axes>"
      ]
     },
     "metadata": {
      "needs_background": "light"
     },
     "output_type": "display_data"
    }
   ],
   "source": [
    "import matplotlib.pyplot as plt\n",
    "import math\n",
    "freqs = [freq for token, freq in vocab.token_freqs]\n",
    "plt.plot(freqs)"
   ]
  },
  {
   "cell_type": "markdown",
   "id": "5bbd998a",
   "metadata": {},
   "source": [
    "### 9.4.1.1 长尾分布"
   ]
  },
  {
   "cell_type": "markdown",
   "id": "68411b5e",
   "metadata": {},
   "source": [
    "可以看到词频分布出现了长尾分布。长尾分布是指在数据分布中，极少数的数据占据了大部分的位置，而大多数的数据只占据了极少的位置，这种分布状态被称为长尾分布。\n",
    "\n",
    "长尾分布常见于数据中的搜索结果，例如在搜索引擎中，极少数的搜索结果会被大量访问，而大多数的搜索结果只会被很少访问。在自然语言领域，相对于前面的高频词，这些长尾反而更加重要。因此在计算中，会考虑去除前面高频停用词，或者用一些方法来降低高频特征权重，提升低频特征和未见过特征的权重，比如前面讲过的平滑方法。"
   ]
  },
  {
   "cell_type": "markdown",
   "id": "2525469e",
   "metadata": {},
   "source": [
    "### 9.4.1.2 齐夫定律"
   ]
  },
  {
   "cell_type": "markdown",
   "id": "dc020d92",
   "metadata": {},
   "source": [
    "除了长尾分布，还有一种鼎鼎大名的词频分布规律，叫齐夫定律。\n",
    "\n",
    "齐夫定律，也叫Zipf定律，是由哈佛大学的语言学家乔治·金斯利·齐夫（George Kingsley Zipf）于1949年发表的实验定律。它是一种语言学定理，它指出在自然语言中，一个单词出现的频率与其在词汇表中的排名成反比例。频率最高的单词出现的频率大约是出现频率第二位的单词的2倍，而出现频率第二位的单词则是出现频率第四位的单词的2倍。这个定律被作为任何与幂定律概率分布有关的事物的参考。\n",
    "\n",
    "我们把刚刚的词频曲线的坐标轴设置为对数坐标，来看一下结果。"
   ]
  },
  {
   "cell_type": "code",
   "execution_count": 20,
   "id": "2afb3955",
   "metadata": {},
   "outputs": [
    {
     "data": {
      "text/plain": [
       "[<matplotlib.lines.Line2D at 0x7fedea7b3e80>]"
      ]
     },
     "execution_count": 20,
     "metadata": {},
     "output_type": "execute_result"
    },
    {
     "data": {
      "image/png": "[encoded data removed]",
      "text/plain": [
       "<Figure size 432x288 with 1 Axes>"
      ]
     },
     "metadata": {
      "needs_background": "light"
     },
     "output_type": "display_data"
    }
   ],
   "source": [
    "fig, ax = plt.subplots()\n",
    "ax.set_xscale('log', base=10)\n",
    "ax.set_yscale('log', base=10)\n",
    "plt.plot(freqs)"
   ]
  },
  {
   "cell_type": "markdown",
   "id": "5cd73b5e",
   "metadata": {},
   "source": [
    "可以看到词频曲线基本趋近于双对数坐标图上的一条直线。单个词的词频分析，相当于一元语法，我们再来看看多元的情况如何。"
   ]
  },
  {
   "cell_type": "code",
   "execution_count": 21,
   "id": "80be3db5",
   "metadata": {},
   "outputs": [
    {
     "data": {
      "text/plain": [
       "[(('剑', '士'), 134),\n",
       " (('范', '蠡'), 117),\n",
       " (('阿', '青'), 62),\n",
       " (('吴', '国'), 53),\n",
       " (('青', '衣'), 47),\n",
       " (('勾', '践'), 47),\n",
       " (('衣', '剑'), 46),\n",
       " (('锦', '衫'), 40),\n",
       " (('衫', '剑'), 40),\n",
       " (('长', '剑'), 36)]"
      ]
     },
     "execution_count": 21,
     "metadata": {},
     "output_type": "execute_result"
    }
   ],
   "source": [
    "# 二元语法词频\n",
    "bigram_tokens = [pair for pair in zip(corpus[:-1], corpus[1:])]\n",
    "bigram_vocab = Vocab(bigram_tokens)\n",
    "bigram_vocab.token_freqs[:10]"
   ]
  },
  {
   "cell_type": "code",
   "execution_count": 22,
   "id": "95d26488",
   "metadata": {},
   "outputs": [
    {
     "data": {
      "text/plain": [
       "[(('青', '衣', '剑'), 46),\n",
       " (('衣', '剑', '士'), 46),\n",
       " (('锦', '衫', '剑'), 40),\n",
       " (('衫', '剑', '士'), 40),\n",
       " (('国', '剑', '士'), 27),\n",
       " (('伍', '子', '胥'), 23),\n",
       " (('吴', '国', '剑'), 20),\n",
       " (('名', '青', '衣'), 18),\n",
       " (('范', '蠡', '道'), 18),\n",
       " (('那', '少', '女'), 18)]"
      ]
     },
     "execution_count": 22,
     "metadata": {},
     "output_type": "execute_result"
    }
   ],
   "source": [
    "# 三元语法词频\n",
    "trigram_tokens = [triple for triple in zip(\n",
    "    corpus[:-2], corpus[1:-1], corpus[2:])]\n",
    "trigram_vocab = Vocab(trigram_tokens)\n",
    "trigram_vocab.token_freqs[:10]"
   ]
  },
  {
   "cell_type": "markdown",
   "id": "8808d27d",
   "metadata": {},
   "source": [
    "我们用一张图来看一下不同语法分布的规律。"
   ]
  },
  {
   "cell_type": "code",
   "execution_count": 24,
   "id": "d447d7c0",
   "metadata": {},
   "outputs": [
    {
     "data": {
      "text/plain": [
       "[]"
      ]
     },
     "execution_count": 24,
     "metadata": {},
     "output_type": "execute_result"
    },
    {
     "data": {
      "image/png": "[encoded data removed]",
      "text/plain": [
       "<Figure size 432x288 with 1 Axes>"
      ]
     },
     "metadata": {
      "needs_background": "light"
     },
     "output_type": "display_data"
    }
   ],
   "source": [
    "unigram_freqs = [freq for token, freq in vocab.token_freqs]\n",
    "bigram_freqs = [freq for token, freq in bigram_vocab.token_freqs]\n",
    "trigram_freqs = [freq for token, freq in trigram_vocab.token_freqs]\n",
    "fig, ax = plt.subplots()\n",
    "ax.set_xscale('log', base=10)\n",
    "ax.set_yscale('log', base=10)\n",
    "plt.plot(unigram_freqs, label='unigram')\n",
    "plt.plot(bigram_freqs, label='bigram')\n",
    "plt.plot(trigram_freqs, label='trigram')\n",
    "plt.legend()\n",
    "plt.plot()"
   ]
  },
  {
   "cell_type": "markdown",
   "id": "e4af972a",
   "metadata": {},
   "source": [
    "可以看到，除了基本上多元语法模型同样遵循齐夫定律，并且随着n元模型的n的增大啊，曲线越发平缓了。但是同时，随着n的增加，越来越多的ngram出现的越来越少，这让我们使用传统方法进行建模难度越来越大。也为深度学习的引入创造了机会。"
   ]
  },
  {
   "cell_type": "markdown",
   "id": "43bca819",
   "metadata": {},
   "source": [
    "## 9.4.2 数据集构造"
   ]
  },
  {
   "cell_type": "markdown",
   "id": "8b3e47db",
   "metadata": {},
   "source": [
    "和前面讲过的图像分类等模型不同，文本数据并没有标签，因此为了能够训练出模型，需要我们手动构造出带标签的数据集。还记得9.1节中，我们学习的时间序列建模吗？那时候，我们也是手动构造的训练数据集，用前t-n+1个元素作为输入X，第t个元素作为输出y。然后定义一个偏移量offset，最后就是遍历全部数据去构造数据集了。这里我们写好了相关代码，并封装成了一个DataLoader类，可以在后续训练中迭代取出训练数据。"
   ]
  },
  {
   "cell_type": "code",
   "execution_count": null,
   "id": "dd93410e",
   "metadata": {},
   "outputs": [],
   "source": [
    "class DataLoader:\n",
    "    def __init__(self):\n",
    "        self.corpus = corpus  ##全部语料list\n",
    "        self.batch_size = batch_size  ##批量大小\n",
    "        self.num_steps = num_steps    ##\n",
    "    \n",
    "    def __iter__(self):\n",
    "        ## 设置随机偏移量\n",
    "        offset = random.randint(0, num_steps)\n",
    "        num_tokens = ((len(corpus) - offset - 1) // batch_size) * batch_size\n",
    "        Xs = torch.tensor(corpus[offset: offset + num_tokens])\n",
    "        Ys = torch.tensor(corpus[offset + 1: offset + 1 + num_tokens])\n",
    "        Xs, Ys = Xs.reshape(batch_size, -1), Ys.reshape(batch_size, -1)\n",
    "        num_batches = Xs.shape[1] // num_steps\n",
    "        for i in range(0, num_steps * num_batches, num_steps):\n",
    "            X = Xs[:, i: i + num_steps]\n",
    "            Y = Ys[:, i: i + num_steps]\n",
    "            yield X, Y"
   ]
  },
  {
   "cell_type": "markdown",
   "id": "016a2926",
   "metadata": {},
   "source": [
    "在下一节的循环神经网络模型代码部分，我们将使用这个DataLoader类来构造数据集。"
   ]
  },
  {
   "cell_type": "markdown",
   "id": "7f770e2d",
   "metadata": {},
   "source": [
    "**梗直哥提示：本节我们学习了文本数据的统计分析方法和数据集构造方法，。更加详细的知识点的掌握，有赖于你在实战中总结经验，慢慢就熟悉了。当然，如果你想大幅节省时间，解答自己在学习中的各种困惑，欢迎选修《梗直哥深度学习：python实战》。**"
   ]
  }
 ],
 "metadata": {
  "kernelspec": {
   "display_name": "Python 3 (ipykernel)",
   "language": "python",
   "name": "python3"
  },
  "language_info": {
   "codemirror_mode": {
    "name": "ipython",
    "version": 3
   },
   "file_extension": ".py",
   "mimetype": "text/x-python",
   "name": "python",
   "nbconvert_exporter": "python",
   "pygments_lexer": "ipython3",
   "version": "3.8.10"
  }
 },
 "nbformat": 4,
 "nbformat_minor": 5
}
