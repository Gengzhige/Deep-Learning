{
 "cells": [
  {
   "cell_type": "markdown",
   "id": "8ea0b539",
   "metadata": {},
   "source": [
    "## 4.5 多分类问题代码实现"
   ]
  },
  {
   "cell_type": "markdown",
   "id": "6989c199",
   "metadata": {},
   "source": [
    "###  4.5.1 多分类问题简单回顾"
   ]
  },
  {
   "cell_type": "markdown",
   "id": "5700f99d",
   "metadata": {},
   "source": [
    "在二分类问题中，我们可以使用sigmoid函数。而在多分类问题中，我们希望将输入数据划分到超过两个类别中的一个。这种情况下，我们通常使用一种叫做 \"softmax\" 的函数。\n",
    "\n",
    "我们将神经网络的最后一层称为 \"softmax层\"。这一层的输出是一个概率分布，表示输入数据属于每个类别的概率。为了计算这些概率，我们使用 softmax 函数。\n",
    "\n",
    "让我们假设有 K 个类别，其中第 k 个类别的概率为 $p_k$。我们将最后一层的输出（即 logits）记为 $z_1，z_2，…，z_k$。那么根据 softmax 函数的定义，每个类别的概率可以计算为：\n",
    "\n",
    "$$ p_k = \\frac{exp(z_k)}{\\sum_{i=1}^{k} exp(z_i)} $$\n",
    "\n",
    "这个过程是对所有 K 个 logits 应用指数函数，然后将它们归一化为概率分布。\n",
    "\n",
    "在训练神经网络时，我们通常使用交叉熵损失函数来度量预测值与真实值之间的差距。对于多分类问题，交叉熵损失函数可以计算为：\n",
    "\n",
    "$$ L = - \\sum_{i=1}^{k} y_i \\times log(p_i) $$\n",
    "\n",
    "其中 $y_i$ 是真实值，$p_i$ 是预测值。\n",
    "\n",
    "通过最小化交叉熵损失函数，我们可以训练出模型的参数。当我们训练完神经网络后，我们就可以使用它来进行多分类。为了做出预测，我们需要将输入数据输入到神经网络中，并根据输出的概率分布来决定它属于哪个类别。\n",
    "\n",
    "使用 softmax 函数和交叉熵损失函数是一种多分类的常见的方法。"
   ]
  },
  {
   "cell_type": "markdown",
   "id": "8da7e167",
   "metadata": {},
   "source": [
    "### 4.5.2 代码实现"
   ]
  },
  {
   "cell_type": "markdown",
   "id": "a4832b22",
   "metadata": {},
   "source": [
    "**加载MNIST数据集**"
   ]
  },
  {
   "cell_type": "code",
   "execution_count": 1,
   "id": "2426650f",
   "metadata": {},
   "outputs": [],
   "source": [
    "import torch\n",
    "import torchvision"
   ]
  },
  {
   "cell_type": "code",
   "execution_count": null,
   "id": "1dfa55b5",
   "metadata": {},
   "outputs": [],
   "source": [
    "transformation = torchvision.transforms.ToTensor()\n",
    "train_dataset = torchvision.datasets.MNIST(root='../data/mnist/', train=True, download=True, transform=transformation)\n",
    "test_dataset = torchvision.datasets.MNIST(root='../data/mnist/', train=False, download=True, transform=transformation)"
   ]
  },
  {
   "cell_type": "markdown",
   "id": "ea174b24",
   "metadata": {},
   "source": [
    "**数据加载器**"
   ]
  },
  {
   "cell_type": "code",
   "execution_count": 3,
   "id": "21bd73b6",
   "metadata": {},
   "outputs": [],
   "source": [
    "batch_size = 64\n",
    "train_dataloader = torch.utils.data.DataLoader(train_dataset, batch_size=batch_size, shuffle=True)\n",
    "test_dataloader = torch.utils.data.DataLoader(test_dataset, batch_size=batch_size, shuffle=False)"
   ]
  },
  {
   "cell_type": "code",
   "execution_count": 4,
   "id": "fa1043f7",
   "metadata": {},
   "outputs": [],
   "source": [
    "import matplotlib.pyplot as plt"
   ]
  },
  {
   "cell_type": "code",
   "execution_count": null,
   "id": "7b7fe947",
   "metadata": {
    "scrolled": true
   },
   "outputs": [],
   "source": [
    "for images, labels in train_dataloader:\n",
    "    print(images.shape, labels.shape)\n",
    "    \n",
    "    plt.imshow(images[0][0], cmap='gray')\n",
    "    plt.show()\n",
    "    \n",
    "    print(labels[0])"
   ]
  },
  {
   "cell_type": "markdown",
   "id": "81933b48",
   "metadata": {},
   "source": [
    "**构建网络**"
   ]
  },
  {
   "cell_type": "code",
   "execution_count": 6,
   "id": "a66b81f3",
   "metadata": {},
   "outputs": [],
   "source": [
    "import torch.nn as nn\n",
    "\n",
    "class Model(nn.Module):\n",
    "    def __init__(self, input_size, output_size):\n",
    "        super().__init__()\n",
    "        self.linear = nn.Linear(input_size, output_size)\n",
    "    \n",
    "    def forward(self, x):\n",
    "        logits = self.linear(x)\n",
    "        return logits\n"
   ]
  },
  {
   "cell_type": "code",
   "execution_count": 7,
   "id": "957dffe9",
   "metadata": {},
   "outputs": [],
   "source": [
    "input_size = 28*28\n",
    "output_size = 10\n",
    "model = Model(input_size, output_size)"
   ]
  },
  {
   "cell_type": "markdown",
   "id": "80fb34da",
   "metadata": {},
   "source": [
    "**损失函数和优化器**"
   ]
  },
  {
   "cell_type": "code",
   "execution_count": 8,
   "id": "e3d40f21",
   "metadata": {},
   "outputs": [],
   "source": [
    "criterion = nn.CrossEntropyLoss()\n",
    "optimizer = torch.optim.SGD(model.parameters(), lr=0.01)"
   ]
  },
  {
   "cell_type": "markdown",
   "id": "3ab2faf5",
   "metadata": {},
   "source": [
    "**模型评估**"
   ]
  },
  {
   "cell_type": "code",
   "execution_count": 9,
   "id": "04f65f11",
   "metadata": {},
   "outputs": [],
   "source": [
    "def evaluate(model, data_loader):\n",
    "    model.eval()\n",
    "    correct = 0\n",
    "    total = 0\n",
    "    with torch.no_grad():\n",
    "        for x, y in data_loader:\n",
    "            x = x.view(-1, input_size)\n",
    "            logits = model(x)\n",
    "            _, predicted = torch.max(logits.data, 1)\n",
    "            total += y.size(0)\n",
    "            correct += (predicted == y).sum().item()\n",
    "    return correct / total"
   ]
  },
  {
   "cell_type": "markdown",
   "id": "4247397c",
   "metadata": {},
   "source": [
    "**模型训练**"
   ]
  },
  {
   "cell_type": "code",
   "execution_count": 10,
   "id": "d5f4c78b",
   "metadata": {},
   "outputs": [
    {
     "name": "stdout",
     "output_type": "stream",
     "text": [
      "Epoch 1: test accuracy = 0.87\n",
      "Epoch 2: test accuracy = 0.88\n",
      "Epoch 3: test accuracy = 0.89\n",
      "Epoch 4: test accuracy = 0.90\n",
      "Epoch 5: test accuracy = 0.90\n",
      "Epoch 6: test accuracy = 0.90\n",
      "Epoch 7: test accuracy = 0.90\n",
      "Epoch 8: test accuracy = 0.91\n",
      "Epoch 9: test accuracy = 0.91\n",
      "Epoch 10: test accuracy = 0.91\n"
     ]
    }
   ],
   "source": [
    "for epoch in range(10):\n",
    "    for images, labels in train_dataloader:\n",
    "        # 将图像和标签转换成张量\n",
    "        images = images.view(-1, 28*28)\n",
    "        labels = labels.long()\n",
    "        \n",
    "        # 前向传播\n",
    "        outputs = model(images)\n",
    "        loss = criterion(outputs, labels)\n",
    "        \n",
    "        # 反向传播和优化\n",
    "        optimizer.zero_grad()\n",
    "        loss.backward()\n",
    "        optimizer.step()\n",
    "    accuracy = evaluate(model, test_dataloader)\n",
    "    print(f'Epoch {epoch+1}: test accuracy = {accuracy:.2f}')"
   ]
  },
  {
   "cell_type": "markdown",
   "id": "83048b5e",
   "metadata": {},
   "source": [
    "[Next 5-1多层感知机](../Chapter-05%20深层神经网络/5-1%20多层感知机.ipynb)"
   ]
  },
  {
   "cell_type": "code",
   "execution_count": null,
   "id": "7151484f",
   "metadata": {},
   "outputs": [],
   "source": []
  }
 ],
 "metadata": {
  "kernelspec": {
   "display_name": "Python 3 (ipykernel)",
   "language": "python",
   "name": "python3"
  },
  "language_info": {
   "codemirror_mode": {
    "name": "ipython",
    "version": 3
   },
   "file_extension": ".py",
   "mimetype": "text/x-python",
   "name": "python",
   "nbconvert_exporter": "python",
   "pygments_lexer": "ipython3",
   "version": "3.8.10"
  },
  "toc": {
   "base_numbering": 1,
   "nav_menu": {},
   "number_sections": true,
   "sideBar": true,
   "skip_h1_title": false,
   "title_cell": "Table of Contents",
   "title_sidebar": "Contents",
   "toc_cell": false,
   "toc_position": {
    "height": "calc(100% - 180px)",
    "left": "10px",
    "top": "150px",
    "width": "195.458px"
   },
   "toc_section_display": true,
   "toc_window_display": true
  }
 },
 "nbformat": 4,
 "nbformat_minor": 5
}
