{
 "cells": [
  {
   "cell_type": "markdown",
   "metadata": {},
   "source": [
    "## 6.9 Adadelta算法\n",
    "“长江后浪推前浪，一浪更比一浪高”。RMSProp算法对Adagrad算法在学习率上进行了改进。同时期，其他的研究者还提出了不同的改进算法。其中比较典型的就是Adadelta算法啦。在优化算法的发展史上留下了值得炫耀的一笔，本节咱们就来介绍下。"
   ]
  },
  {
   "cell_type": "markdown",
   "metadata": {},
   "source": [
    "### 6.9.1 基本原理\n",
    "\n",
    "从时间线上来看，Adagrad算法是由John Duchi、Eliza Singer和Yoshua Bengio在2011年提出的。RMSProp算法是由Geoffrey Hinton在2012年提出的。Adadelta算法是由Matthew D. Zeiler在2012年提出的。基本上是脚前脚后，同一个时期。\n",
    "\n",
    "Adadelta是一种自适应学习率的方法，用于神经网络的训练过程中。它的基本思想是避免使用手动调整学习率的方法来控制训练过程，而是自动调整学习率，使得训练过程更加顺畅。\n",
    "\n",
    "Adadelta算法主要由两部分组成：梯度积分和更新规则。\n",
    "\n",
    "梯度积分：在每一个时刻，我们可以计算出每一层的梯度。梯度积分即是对这些梯度进行累加，并记录下来。\n",
    "\n",
    "更新规则：我们通过使用梯度积分来更新每一层的权重。我们使用如下公式来计算权重的更新量：\n",
    "\n",
    "$$\\Delta w = -\\frac{\\sqrt{E[g^2] + \\epsilon}}{\\sqrt{E[\\Delta w^2] + \\epsilon}} \\cdot g$$\n",
    "\n",
    "其中，$\\Delta w$ 表示权重的更新量，$g$ 表示当前梯度，$E[g^2]$ 表示梯度积分，$E[\\Delta w^2]$ 表示权重更新量的积分，$\\epsilon$ 是一个很小的正数，用于防止分母为 $0$ 的情况。\n",
    "\n",
    "我们使用这个公式来计算权重的更新量，并更新权重。这样，我们就实现了使用自适应学习率来训练神经网络的目的。"
   ]
  },
  {
   "cell_type": "markdown",
   "metadata": {},
   "source": [
    "### 6.9.2 优缺点\n",
    "\n",
    "从优点来说，Adadelta算法自动调整学习率，使得训练过程更加顺畅。它不需要手动调整学习率，可以省去调参的时间，而且能够在训练过程中避免出现“饱和”现象，使得训练更加稳定。\n",
    "\n",
    "从缺点来看，它可能会收敛得比较慢，因为它不会显式地调整学习率。此外，它需要维护梯度和权重更新量的积分，可能会增加空间复杂度。\n",
    "\n",
    "### 6.9.3 代码示例\n",
    "\n",
    "在下面这个例子中，我们将演示用一个简单的神经网络来拟合 $y = x^2$ 这个函数，选取均方误差作为损失函数，使用Adadelta算法来优化权重。"
   ]
  },
  {
   "cell_type": "code",
   "execution_count": 1,
   "metadata": {},
   "outputs": [
    {
     "data": {
      "image/png": "[encoded data removed]",
      "text/plain": [
       "<Figure size 432x288 with 1 Axes>"
      ]
     },
     "metadata": {
      "needs_background": "light"
     },
     "output_type": "display_data"
    }
   ],
   "source": [
    "import torch\n",
    "import torch.nn as nn\n",
    "import matplotlib.pyplot as plt\n",
    "\n",
    "# 定义一个简单的网络\n",
    "class Net(nn.Module):\n",
    "    def __init__(self):\n",
    "        super(Net, self).__init__()\n",
    "        self.fc1 = nn.Linear(1, 10)\n",
    "        self.fc2 = nn.Linear(10, 1)\n",
    "    \n",
    "    def forward(self, x):\n",
    "        x = self.fc1(x)\n",
    "        x = self.fc2(x)\n",
    "        return x\n",
    "\n",
    "# 随机生成训练数据\n",
    "x = torch.randn(100, 1)\n",
    "y = x.pow(2) + 0.1 * torch.randn(100, 1)\n",
    "\n",
    "# 实例化网络\n",
    "net = Net()\n",
    "\n",
    "# 定义损失函数和优化器\n",
    "criterion = nn.MSELoss()\n",
    "optimizer = torch.optim.Adadelta(net.parameters())\n",
    "\n",
    "# 记录训练损失\n",
    "losses = []\n",
    "\n",
    "# 开始训练\n",
    "for epoch in range(100):\n",
    "    # 前向传播 + 反向传播 + 优化\n",
    "    output = net(x)\n",
    "    loss = criterion(output, y)\n",
    "    optimizer.zero_grad()\n",
    "    loss.backward()\n",
    "    optimizer.step()\n",
    "\n",
    "    # 记录损失\n",
    "    losses.append(loss.item())\n",
    "\n",
    "# 绘制训练损失图\n",
    "plt.plot(losses)\n",
    "plt.show()"
   ]
  },
  {
   "cell_type": "markdown",
   "metadata": {},
   "source": [
    "在训练过程中，每隔一个epoch记录一次损失，最后绘制损失的变化图。可以看到随着训练的进行，损失逐渐减少。这说明网络的权重在逐渐拟合训练数据。\n",
    "\n",
    "**梗直哥提示：这个例子只是为了给出一个大致的框架，帮助你理解如何使用Adadelta算法来训练一个网络。你可以根据自己的需要来修改代码，例如调整网络的结构、使用不同的数据集等。**"
   ]
  },
  {
   "cell_type": "markdown",
   "metadata": {},
   "source": [
    "[Next 6-10 Adam算法](./6-10%20Adam算法.ipynb)"
   ]
  },
  {
   "cell_type": "code",
   "execution_count": null,
   "metadata": {},
   "outputs": [],
   "source": []
  }
 ],
 "metadata": {
  "kernelspec": {
   "display_name": "Python 3 (ipykernel)",
   "language": "python",
   "name": "python3"
  },
  "language_info": {
   "codemirror_mode": {
    "name": "ipython",
    "version": 3
   },
   "file_extension": ".py",
   "mimetype": "text/x-python",
   "name": "python",
   "nbconvert_exporter": "python",
   "pygments_lexer": "ipython3",
   "version": "3.8.10"
  }
 },
 "nbformat": 4,
 "nbformat_minor": 4
}
